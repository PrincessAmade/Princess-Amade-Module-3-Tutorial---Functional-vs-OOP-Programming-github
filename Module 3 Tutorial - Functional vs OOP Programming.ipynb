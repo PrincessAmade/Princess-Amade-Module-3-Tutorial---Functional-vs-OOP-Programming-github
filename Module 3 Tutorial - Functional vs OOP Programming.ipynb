{
 "cells": [
  {
   "cell_type": "code",
   "execution_count": 8,
   "id": "c96c35cb-f735-44b3-ae82-15783531af64",
   "metadata": {},
   "outputs": [
    {
     "name": "stdin",
     "output_type": "stream",
     "text": [
      "Test case:  2\n",
      "This is the list  1 0 1 2 1\n"
     ]
    },
    {
     "name": "stdout",
     "output_type": "stream",
     "text": [
      "0 1 1 1 2\n",
      "~\n"
     ]
    },
    {
     "name": "stdin",
     "output_type": "stream",
     "text": [
      "This is the list  1 2 0 1\n"
     ]
    },
    {
     "name": "stdout",
     "output_type": "stream",
     "text": [
      "0 1 1 2\n",
      "~\n"
     ]
    }
   ],
   "source": [
    "# } Driver Code Ends\n",
    "class Solution:\n",
    "    # Function to sort an array of 0s, 1s, and 2s\n",
    "    def sort012(self, arr):\n",
    "        low, mid, high = 0, 0, len(arr) - 1\n",
    "        \n",
    "        # Use the Dutch National Flag Algorithm\n",
    "        while mid <= high:\n",
    "            if arr[mid] == 0:  # Move 0 to the start\n",
    "                arr[low], arr[mid] = arr[mid], arr[low]\n",
    "                low += 1\n",
    "                mid += 1\n",
    "            elif arr[mid] == 1:  # Keep 1 in the middle\n",
    "                mid += 1\n",
    "            else:  # Move 2 to the end\n",
    "                arr[mid], arr[high] = arr[high], arr[mid]\n",
    "                high -= 1\n",
    "\n",
    "#{ \n",
    " # Driver Code Starts.\n",
    "def main():\n",
    "    t = int(input(\"Test case: \").strip())  # Read the number of test cases\n",
    "    ob = Solution()\n",
    "\n",
    "    while t > 0:\n",
    "        t -= 1\n",
    "        arr = list(map(int, input(\"This is the list \").strip().split()))  # Read the array as space-separated integers\n",
    "        ob.sort012(arr)  # Sort the array in-place\n",
    "\n",
    "        print(' '.join(map(str, arr)))  # Print the sorted array\n",
    "        print(\"~\")\n",
    "        \n",
    "if __name__ == \"__main__\":\n",
    "     main()\n",
    "# } Driver Code Ends\n"
   ]
  },
  {
   "cell_type": "code",
   "execution_count": 4,
   "id": "62877b94-21d7-4ae3-a1ff-a48f93f92c62",
   "metadata": {},
   "outputs": [
    {
     "name": "stdin",
     "output_type": "stream",
     "text": [
      "test case:  1\n",
      "K:  5\n",
      " 4 6 8 5 7 8 9\n"
     ]
    },
    {
     "name": "stdout",
     "output_type": "stream",
     "text": [
      "The index of  5  is  3\n",
      "~\n"
     ]
    }
   ],
   "source": [
    "# User function template for Python\n",
    "\n",
    "class Solution:\n",
    "    def binarysearch(self, arr, k):\n",
    "        low, high = 0, len(arr) - 1  # Initialize the pointers\n",
    "        \n",
    "        while low <= high:\n",
    "            mid = (low + high) // 2  # Compute the middle index\n",
    "            if arr[mid] == k:\n",
    "                return mid  # Element found, return its index\n",
    "            elif arr[mid] > k:\n",
    "                high = mid - 1  # Search in the left half\n",
    "            else:\n",
    "                low = mid + 1  # Search in the right half\n",
    "        \n",
    "        return -1  # Element not found\n",
    "\n",
    "\n",
    "#{ \n",
    " # Driver Code Starts\n",
    "# Initial template for Python\n",
    "\n",
    "if __name__ == \"__main__\":\n",
    "    t = int(input(\"test case: \"))  # Number of test cases\n",
    "    for _ in range(t):\n",
    "        k = int(input(\"K: \"))  # Target value\n",
    "        arr = list(map(int, input().split()))  # Sorted array\n",
    "        ob = Solution()\n",
    "        res = ob.binarysearch(arr, k)  # Perform binary search\n",
    "        print(\"The index of \",k, \" is \",res)  # Output result\n",
    "        print(\"~\")  # Separator for each test case\n",
    "\n",
    "# } Driver Code Ends\n"
   ]
  },
  {
   "cell_type": "code",
   "execution_count": null,
   "id": "dbcfe16a-7a7c-46ac-9446-50b67906ffc5",
   "metadata": {},
   "outputs": [],
   "source": []
  }
 ],
 "metadata": {
  "kernelspec": {
   "display_name": "Python 3 (ipykernel)",
   "language": "python",
   "name": "python3"
  },
  "language_info": {
   "codemirror_mode": {
    "name": "ipython",
    "version": 3
   },
   "file_extension": ".py",
   "mimetype": "text/x-python",
   "name": "python",
   "nbconvert_exporter": "python",
   "pygments_lexer": "ipython3",
   "version": "3.12.7"
  }
 },
 "nbformat": 4,
 "nbformat_minor": 5
}
