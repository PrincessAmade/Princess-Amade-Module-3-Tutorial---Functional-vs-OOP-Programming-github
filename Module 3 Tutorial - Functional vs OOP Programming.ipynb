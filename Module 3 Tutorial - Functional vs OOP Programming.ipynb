{
 "cells": [
  {
   "cell_type": "code",
   "execution_count": null,
   "id": "62877b94-21d7-4ae3-a1ff-a48f93f92c62",
   "metadata": {},
   "outputs": [
    {
     "name": "stdin",
     "output_type": "stream",
     "text": [
      "test case:  2\n",
      "K:  45\n",
      " 3 6 7 45 7 89 6\n"
     ]
    },
    {
     "name": "stdout",
     "output_type": "stream",
     "text": [
      "3\n",
      "~\n"
     ]
    }
   ],
   "source": [
    "# User function template for Python\n",
    "\n",
    "class Solution:\n",
    "    def binarysearch(self, arr, k):\n",
    "        low, high = 0, len(arr) - 1  # Initialize the pointers\n",
    "        \n",
    "        while low <= high:\n",
    "            mid = (low + high) // 2  # Compute the middle index\n",
    "            if arr[mid] == k:\n",
    "                return mid  # Element found, return its index\n",
    "            elif arr[mid] > k:\n",
    "                high = mid - 1  # Search in the left half\n",
    "            else:\n",
    "                low = mid + 1  # Search in the right half\n",
    "        \n",
    "        return -1  # Element not found\n",
    "\n",
    "\n",
    "#{ \n",
    " # Driver Code Starts\n",
    "# Initial template for Python\n",
    "\n",
    "if __name__ == \"__main__\":\n",
    "    t = int(input(\"test case: \"))  # Number of test cases\n",
    "    for _ in range(t):\n",
    "        k = int(input(\"K: \"))  # Target value\n",
    "        arr = list(map(int, input().split()))  # Sorted array\n",
    "        ob = Solution()\n",
    "        res = ob.binarysearch(arr, k)  # Perform binary search\n",
    "        print(\"The index of \"k \" is \"res)  # Output result\n",
    "        print(\"~\")  # Separator for each test case\n",
    "\n",
    "# } Driver Code Ends\n"
   ]
  },
  {
   "cell_type": "code",
   "execution_count": null,
   "id": "dbcfe16a-7a7c-46ac-9446-50b67906ffc5",
   "metadata": {},
   "outputs": [],
   "source": []
  }
 ],
 "metadata": {
  "kernelspec": {
   "display_name": "Python 3 (ipykernel)",
   "language": "python",
   "name": "python3"
  },
  "language_info": {
   "codemirror_mode": {
    "name": "ipython",
    "version": 3
   },
   "file_extension": ".py",
   "mimetype": "text/x-python",
   "name": "python",
   "nbconvert_exporter": "python",
   "pygments_lexer": "ipython3",
   "version": "3.12.7"
  }
 },
 "nbformat": 4,
 "nbformat_minor": 5
}
